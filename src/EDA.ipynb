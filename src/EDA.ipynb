{
 "cells": [
  {
   "cell_type": "code",
   "execution_count": 1,
   "metadata": {},
   "outputs": [],
   "source": [
    "import pandas as pd\n",
    "import os\n",
    "import openai\n",
    "import numpy as np\n",
    "# Load the CSV file into a pandas DataFrame\n",
    "df = pd.read_csv('../data/champions_lore.csv')\n"
   ]
  },
  {
   "cell_type": "code",
   "execution_count": 2,
   "metadata": {},
   "outputs": [
    {
     "data": {
      "text/html": [
       "<div>\n",
       "<style scoped>\n",
       "    .dataframe tbody tr th:only-of-type {\n",
       "        vertical-align: middle;\n",
       "    }\n",
       "\n",
       "    .dataframe tbody tr th {\n",
       "        vertical-align: top;\n",
       "    }\n",
       "\n",
       "    .dataframe thead th {\n",
       "        text-align: right;\n",
       "    }\n",
       "</style>\n",
       "<table border=\"1\" class=\"dataframe\">\n",
       "  <thead>\n",
       "    <tr style=\"text-align: right;\">\n",
       "      <th></th>\n",
       "      <th>champion</th>\n",
       "      <th>story</th>\n",
       "    </tr>\n",
       "  </thead>\n",
       "  <tbody>\n",
       "    <tr>\n",
       "      <th>0</th>\n",
       "      <td>Aatrox</td>\n",
       "      <td>Whether mistaken for a demon or god, many tale...</td>\n",
       "    </tr>\n",
       "    <tr>\n",
       "      <th>1</th>\n",
       "      <td>Ahri</td>\n",
       "      <td>Ahri’s origins are a mystery, even to her.She ...</td>\n",
       "    </tr>\n",
       "    <tr>\n",
       "      <th>2</th>\n",
       "      <td>Akali</td>\n",
       "      <td>Ionia has always been a land of wild magic, it...</td>\n",
       "    </tr>\n",
       "    <tr>\n",
       "      <th>3</th>\n",
       "      <td>Akshan</td>\n",
       "      <td>Dashing through the shadows of eastern Shurima...</td>\n",
       "    </tr>\n",
       "    <tr>\n",
       "      <th>4</th>\n",
       "      <td>Alistar</td>\n",
       "      <td>Many civilizations have resisted Noxus, but no...</td>\n",
       "    </tr>\n",
       "    <tr>\n",
       "      <th>...</th>\n",
       "      <td>...</td>\n",
       "      <td>...</td>\n",
       "    </tr>\n",
       "    <tr>\n",
       "      <th>162</th>\n",
       "      <td>Milio</td>\n",
       "      <td>Milio's story began generations ago with his g...</td>\n",
       "    </tr>\n",
       "    <tr>\n",
       "      <th>163</th>\n",
       "      <td>Naafiri</td>\n",
       "      <td>In the pitch black Shuriman night, few sounds ...</td>\n",
       "    </tr>\n",
       "    <tr>\n",
       "      <th>164</th>\n",
       "      <td>Briar</td>\n",
       "      <td>Near the end of his reign, Grand General Boram...</td>\n",
       "    </tr>\n",
       "    <tr>\n",
       "      <th>165</th>\n",
       "      <td>Hwei</td>\n",
       "      <td>In northwest Ionia, the island of Koyehn once ...</td>\n",
       "    </tr>\n",
       "    <tr>\n",
       "      <th>166</th>\n",
       "      <td>Smolder</td>\n",
       "      <td>Long before the lands that would become Camavo...</td>\n",
       "    </tr>\n",
       "  </tbody>\n",
       "</table>\n",
       "<p>167 rows × 2 columns</p>\n",
       "</div>"
      ],
      "text/plain": [
       "    champion                                              story\n",
       "0     Aatrox  Whether mistaken for a demon or god, many tale...\n",
       "1       Ahri  Ahri’s origins are a mystery, even to her.She ...\n",
       "2      Akali  Ionia has always been a land of wild magic, it...\n",
       "3     Akshan  Dashing through the shadows of eastern Shurima...\n",
       "4    Alistar  Many civilizations have resisted Noxus, but no...\n",
       "..       ...                                                ...\n",
       "162    Milio  Milio's story began generations ago with his g...\n",
       "163  Naafiri  In the pitch black Shuriman night, few sounds ...\n",
       "164    Briar  Near the end of his reign, Grand General Boram...\n",
       "165     Hwei  In northwest Ionia, the island of Koyehn once ...\n",
       "166  Smolder  Long before the lands that would become Camavo...\n",
       "\n",
       "[167 rows x 2 columns]"
      ]
     },
     "execution_count": 2,
     "metadata": {},
     "output_type": "execute_result"
    }
   ],
   "source": [
    "df"
   ]
  },
  {
   "cell_type": "code",
   "execution_count": 3,
   "metadata": {},
   "outputs": [],
   "source": [
    "\n",
    "def chunk_story(df, chunk_size=1000, overlap_size=0):\n",
    "    # initialize an empty list to store the new rows\n",
    "    new_rows = []\n",
    "\n",
    "    for _, row in df.iterrows():\n",
    "        champion_name = row['champion']\n",
    "        story = row['story']\n",
    "        \n",
    "        i = 0\n",
    "        while i < len(story):\n",
    "            # if overlap_size is greater than 0, move the start of the chunk back to create an overlap\n",
    "            if overlap_size > 0 and i != 0:\n",
    "                i -= overlap_size  # move the start of the chunk back by the overlap size\n",
    "                # if the overlap is too large, move the start of the chunk to the beginning of the story\n",
    "                next_sentence_start = story[i:].find(\". \") + 2  # find the next sentence\n",
    "                if 0 < next_sentence_start < len(story[i:]):\n",
    "                    i += next_sentence_start  # move the start of the chunk to the next sentence\n",
    "            \n",
    "            # find the end of the chunk\n",
    "            chunk_end = i + chunk_size\n",
    "            if chunk_end < len(story):\n",
    "                last_period_idx = story[i:chunk_end].rfind(\".\")\n",
    "                if last_period_idx != -1:\n",
    "                    chunk = story[i:i + last_period_idx + 1]  # include the period in the chunk\n",
    "                else:\n",
    "                    # if there is no period in the chunk, find the next period after the chunk\n",
    "                    chunk = story[i:chunk_end]\n",
    "            else:\n",
    "                chunk = story[i:]\n",
    "            \n",
    "            # add the new row to the list\n",
    "            new_rows.append({\"champion\": champion_name, \"story_chunk\": chunk})\n",
    "            i += len(chunk)  # move the start of the next chunk to the end of the current chunk\n",
    "    \n",
    "    # create a new DataFrame from the list of new rows\n",
    "    new_df = pd.DataFrame(new_rows)\n",
    "    return new_df\n",
    "\n",
    "# create a new DataFrame with the story chunks\n",
    "new_df = chunk_story(df, chunk_size=1000, overlap_size=200)\n",
    "# new_df[new_df['champion'] == 'Aatrox'].to_csv('../data/Aatrox.txt', index=False)"
   ]
  },
  {
   "cell_type": "code",
   "execution_count": 4,
   "metadata": {},
   "outputs": [
    {
     "data": {
      "text/html": [
       "<div>\n",
       "<style scoped>\n",
       "    .dataframe tbody tr th:only-of-type {\n",
       "        vertical-align: middle;\n",
       "    }\n",
       "\n",
       "    .dataframe tbody tr th {\n",
       "        vertical-align: top;\n",
       "    }\n",
       "\n",
       "    .dataframe thead th {\n",
       "        text-align: right;\n",
       "    }\n",
       "</style>\n",
       "<table border=\"1\" class=\"dataframe\">\n",
       "  <thead>\n",
       "    <tr style=\"text-align: right;\">\n",
       "      <th></th>\n",
       "      <th>champion</th>\n",
       "      <th>story_chunk</th>\n",
       "    </tr>\n",
       "  </thead>\n",
       "  <tbody>\n",
       "    <tr>\n",
       "      <th>0</th>\n",
       "      <td>Aatrox</td>\n",
       "      <td>Whether mistaken for a demon or god, many tale...</td>\n",
       "    </tr>\n",
       "    <tr>\n",
       "      <th>1</th>\n",
       "      <td>Aatrox</td>\n",
       "      <td>When Setaka, the Ascended warrior-queen, calle...</td>\n",
       "    </tr>\n",
       "    <tr>\n",
       "      <th>2</th>\n",
       "      <td>Aatrox</td>\n",
       "      <td>Mortals fleeing the conflict came to know them...</td>\n",
       "    </tr>\n",
       "    <tr>\n",
       "      <th>3</th>\n",
       "      <td>Aatrox</td>\n",
       "      <td>For centuries, he strained against this hellis...</td>\n",
       "    </tr>\n",
       "    <tr>\n",
       "      <th>4</th>\n",
       "      <td>Aatrox</td>\n",
       "      <td>The flesh he stole and crudely shaped began to...</td>\n",
       "    </tr>\n",
       "  </tbody>\n",
       "</table>\n",
       "</div>"
      ],
      "text/plain": [
       "  champion                                        story_chunk\n",
       "0   Aatrox  Whether mistaken for a demon or god, many tale...\n",
       "1   Aatrox  When Setaka, the Ascended warrior-queen, calle...\n",
       "2   Aatrox  Mortals fleeing the conflict came to know them...\n",
       "3   Aatrox  For centuries, he strained against this hellis...\n",
       "4   Aatrox  The flesh he stole and crudely shaped began to..."
      ]
     },
     "execution_count": 4,
     "metadata": {},
     "output_type": "execute_result"
    }
   ],
   "source": [
    "new_df.head()"
   ]
  },
  {
   "cell_type": "code",
   "execution_count": 5,
   "metadata": {},
   "outputs": [],
   "source": [
    "openai.api_type = \"azure\" # use the OpenAI API\n",
    "model = \"text-embedding-ada-002\""
   ]
  },
  {
   "cell_type": "code",
   "execution_count": 6,
   "metadata": {},
   "outputs": [],
   "source": [
    "\n",
    "def get_embedding(text, model=\"RAG-Embedding\"):\n",
    "   text = text.replace(\"\\n\", \" \")\n",
    "   return openai.embeddings.create(input = [text], model=model).data[0].embedding"
   ]
  },
  {
   "cell_type": "code",
   "execution_count": 7,
   "metadata": {},
   "outputs": [],
   "source": [
    "final_df = new_df['story_chunk'].apply(lambda x: get_embedding(x, model='RAG-Embedding'))\n"
   ]
  },
  {
   "cell_type": "code",
   "execution_count": 8,
   "metadata": {},
   "outputs": [
    {
     "data": {
      "text/plain": [
       "0    [0.013453477062284946, -0.005212394054979086, ...\n",
       "1    [0.013177535496652126, -0.02012667991220951, -...\n",
       "2    [0.007241181097924709, -0.014700141735374928, ...\n",
       "3    [0.0029356228187680244, -0.008332949131727219,...\n",
       "4    [0.005279228091239929, -0.013822841458022594, ...\n",
       "Name: story_chunk, dtype: object"
      ]
     },
     "execution_count": 8,
     "metadata": {},
     "output_type": "execute_result"
    }
   ],
   "source": [
    "final_df.head()"
   ]
  },
  {
   "cell_type": "code",
   "execution_count": 9,
   "metadata": {},
   "outputs": [],
   "source": [
    "def cosine_similarity(a, b):\n",
    "    return np.dot(a, b) "
   ]
  },
  {
   "cell_type": "code",
   "execution_count": 14,
   "metadata": {},
   "outputs": [],
   "source": [
    "# final_df.to_csv('../data/embeddedings.csv', index=False)"
   ]
  },
  {
   "cell_type": "code",
   "execution_count": 6,
   "metadata": {},
   "outputs": [],
   "source": [
    "# final_df = pd.read_csv('../data/embeddedings.csv')"
   ]
  },
  {
   "cell_type": "code",
   "execution_count": 10,
   "metadata": {},
   "outputs": [
    {
     "data": {
      "text/plain": [
       "0      [0.013453477062284946, -0.005212394054979086, ...\n",
       "1      [0.013177535496652126, -0.02012667991220951, -...\n",
       "2      [0.007241181097924709, -0.014700141735374928, ...\n",
       "3      [0.0029356228187680244, -0.008332949131727219,...\n",
       "4      [0.005279228091239929, -0.013822841458022594, ...\n",
       "                             ...                        \n",
       "894    [0.018552804365754128, -0.033252231776714325, ...\n",
       "895    [0.003526126267388463, -0.03364427387714386, -...\n",
       "896    [0.017532963305711746, -0.029706742614507675, ...\n",
       "897    [0.0013252843637019396, -0.033858876675367355,...\n",
       "898    [0.005606119520962238, -0.030375465750694275, ...\n",
       "Name: story_chunk, Length: 899, dtype: object"
      ]
     },
     "execution_count": 10,
     "metadata": {},
     "output_type": "execute_result"
    }
   ],
   "source": [
    "final_df"
   ]
  },
  {
   "cell_type": "code",
   "execution_count": 11,
   "metadata": {},
   "outputs": [],
   "source": [
    "new_df['champion'] = new_df['champion'].str.replace(\"[’\\s]\", \"\", regex=True)\n"
   ]
  },
  {
   "cell_type": "code",
   "execution_count": 12,
   "metadata": {},
   "outputs": [],
   "source": [
    "\n",
    "new_df['champion_with_number'] = new_df['champion'] + (new_df.groupby('champion').cumcount() + 1).astype(str)\n"
   ]
  },
  {
   "cell_type": "code",
   "execution_count": 13,
   "metadata": {},
   "outputs": [],
   "source": [
    "new_df['champion_with_number'].to_csv('../data/champion_names.csv', index=False)"
   ]
  },
  {
   "cell_type": "code",
   "execution_count": 45,
   "metadata": {},
   "outputs": [
    {
     "data": {
      "text/html": [
       "<div>\n",
       "<style scoped>\n",
       "    .dataframe tbody tr th:only-of-type {\n",
       "        vertical-align: middle;\n",
       "    }\n",
       "\n",
       "    .dataframe tbody tr th {\n",
       "        vertical-align: top;\n",
       "    }\n",
       "\n",
       "    .dataframe thead th {\n",
       "        text-align: right;\n",
       "    }\n",
       "</style>\n",
       "<table border=\"1\" class=\"dataframe\">\n",
       "  <thead>\n",
       "    <tr style=\"text-align: right;\">\n",
       "      <th></th>\n",
       "      <th>champion</th>\n",
       "      <th>story_chunk</th>\n",
       "      <th>champion_with_number</th>\n",
       "    </tr>\n",
       "  </thead>\n",
       "  <tbody>\n",
       "    <tr>\n",
       "      <th>0</th>\n",
       "      <td>Aatrox</td>\n",
       "      <td>Whether mistaken for a demon or god, many tale...</td>\n",
       "      <td>Aatrox1</td>\n",
       "    </tr>\n",
       "    <tr>\n",
       "      <th>1</th>\n",
       "      <td>Aatrox</td>\n",
       "      <td>When Setaka, the Ascended warrior-queen, calle...</td>\n",
       "      <td>Aatrox2</td>\n",
       "    </tr>\n",
       "    <tr>\n",
       "      <th>2</th>\n",
       "      <td>Aatrox</td>\n",
       "      <td>Mortals fleeing the conflict came to know them...</td>\n",
       "      <td>Aatrox3</td>\n",
       "    </tr>\n",
       "    <tr>\n",
       "      <th>3</th>\n",
       "      <td>Aatrox</td>\n",
       "      <td>For centuries, he strained against this hellis...</td>\n",
       "      <td>Aatrox4</td>\n",
       "    </tr>\n",
       "    <tr>\n",
       "      <th>4</th>\n",
       "      <td>Aatrox</td>\n",
       "      <td>The flesh he stole and crudely shaped began to...</td>\n",
       "      <td>Aatrox5</td>\n",
       "    </tr>\n",
       "    <tr>\n",
       "      <th>...</th>\n",
       "      <td>...</td>\n",
       "      <td>...</td>\n",
       "      <td>...</td>\n",
       "    </tr>\n",
       "    <tr>\n",
       "      <th>894</th>\n",
       "      <td>Smolder</td>\n",
       "      <td>Long before the lands that would become Camavo...</td>\n",
       "      <td>Smolder1</td>\n",
       "    </tr>\n",
       "    <tr>\n",
       "      <th>895</th>\n",
       "      <td>Smolder</td>\n",
       "      <td>In exchange, the dragons were kept satiated wi...</td>\n",
       "      <td>Smolder2</td>\n",
       "    </tr>\n",
       "    <tr>\n",
       "      <th>896</th>\n",
       "      <td>Smolder</td>\n",
       "      <td>The handful that survived bore witness to endl...</td>\n",
       "      <td>Smolder3</td>\n",
       "    </tr>\n",
       "    <tr>\n",
       "      <th>897</th>\n",
       "      <td>Smolder</td>\n",
       "      <td>Scared, alone, and hungry, the hatchling empl...</td>\n",
       "      <td>Smolder4</td>\n",
       "    </tr>\n",
       "    <tr>\n",
       "      <th>898</th>\n",
       "      <td>Smolder</td>\n",
       "      <td>Suddenly, louder than a hunting horn, louder ...</td>\n",
       "      <td>Smolder5</td>\n",
       "    </tr>\n",
       "  </tbody>\n",
       "</table>\n",
       "<p>899 rows × 3 columns</p>\n",
       "</div>"
      ],
      "text/plain": [
       "    champion                                        story_chunk  \\\n",
       "0     Aatrox  Whether mistaken for a demon or god, many tale...   \n",
       "1     Aatrox  When Setaka, the Ascended warrior-queen, calle...   \n",
       "2     Aatrox  Mortals fleeing the conflict came to know them...   \n",
       "3     Aatrox  For centuries, he strained against this hellis...   \n",
       "4     Aatrox  The flesh he stole and crudely shaped began to...   \n",
       "..       ...                                                ...   \n",
       "894  Smolder  Long before the lands that would become Camavo...   \n",
       "895  Smolder  In exchange, the dragons were kept satiated wi...   \n",
       "896  Smolder  The handful that survived bore witness to endl...   \n",
       "897  Smolder   Scared, alone, and hungry, the hatchling empl...   \n",
       "898  Smolder   Suddenly, louder than a hunting horn, louder ...   \n",
       "\n",
       "    champion_with_number  \n",
       "0                Aatrox1  \n",
       "1                Aatrox2  \n",
       "2                Aatrox3  \n",
       "3                Aatrox4  \n",
       "4                Aatrox5  \n",
       "..                   ...  \n",
       "894             Smolder1  \n",
       "895             Smolder2  \n",
       "896             Smolder3  \n",
       "897             Smolder4  \n",
       "898             Smolder5  \n",
       "\n",
       "[899 rows x 3 columns]"
      ]
     },
     "execution_count": 45,
     "metadata": {},
     "output_type": "execute_result"
    }
   ],
   "source": [
    "new_df"
   ]
  },
  {
   "cell_type": "code",
   "execution_count": 41,
   "metadata": {},
   "outputs": [
    {
     "data": {
      "text/html": [
       "<div>\n",
       "<style scoped>\n",
       "    .dataframe tbody tr th:only-of-type {\n",
       "        vertical-align: middle;\n",
       "    }\n",
       "\n",
       "    .dataframe tbody tr th {\n",
       "        vertical-align: top;\n",
       "    }\n",
       "\n",
       "    .dataframe thead th {\n",
       "        text-align: right;\n",
       "    }\n",
       "</style>\n",
       "<table border=\"1\" class=\"dataframe\">\n",
       "  <thead>\n",
       "    <tr style=\"text-align: right;\">\n",
       "      <th></th>\n",
       "      <th>chunk</th>\n",
       "      <th>text</th>\n",
       "    </tr>\n",
       "  </thead>\n",
       "  <tbody>\n",
       "    <tr>\n",
       "      <th>Aatrox1</th>\n",
       "      <td>0</td>\n",
       "      <td>Whether mistaken for a demon or god, many tale...</td>\n",
       "    </tr>\n",
       "    <tr>\n",
       "      <th>Aatrox2</th>\n",
       "      <td>1</td>\n",
       "      <td>When Setaka, the Ascended warrior-queen, calle...</td>\n",
       "    </tr>\n",
       "    <tr>\n",
       "      <th>Aatrox3</th>\n",
       "      <td>2</td>\n",
       "      <td>Mortals fleeing the conflict came to know them...</td>\n",
       "    </tr>\n",
       "    <tr>\n",
       "      <th>Aatrox4</th>\n",
       "      <td>3</td>\n",
       "      <td>For centuries, he strained against this hellis...</td>\n",
       "    </tr>\n",
       "    <tr>\n",
       "      <th>Aatrox5</th>\n",
       "      <td>4</td>\n",
       "      <td>The flesh he stole and crudely shaped began to...</td>\n",
       "    </tr>\n",
       "    <tr>\n",
       "      <th>...</th>\n",
       "      <td>...</td>\n",
       "      <td>...</td>\n",
       "    </tr>\n",
       "    <tr>\n",
       "      <th>Smolder1</th>\n",
       "      <td>894</td>\n",
       "      <td>Long before the lands that would become Camavo...</td>\n",
       "    </tr>\n",
       "    <tr>\n",
       "      <th>Smolder2</th>\n",
       "      <td>895</td>\n",
       "      <td>In exchange, the dragons were kept satiated wi...</td>\n",
       "    </tr>\n",
       "    <tr>\n",
       "      <th>Smolder3</th>\n",
       "      <td>896</td>\n",
       "      <td>The handful that survived bore witness to endl...</td>\n",
       "    </tr>\n",
       "    <tr>\n",
       "      <th>Smolder4</th>\n",
       "      <td>897</td>\n",
       "      <td>Scared, alone, and hungry, the hatchling empl...</td>\n",
       "    </tr>\n",
       "    <tr>\n",
       "      <th>Smolder5</th>\n",
       "      <td>898</td>\n",
       "      <td>Suddenly, louder than a hunting horn, louder ...</td>\n",
       "    </tr>\n",
       "  </tbody>\n",
       "</table>\n",
       "<p>899 rows × 2 columns</p>\n",
       "</div>"
      ],
      "text/plain": [
       "          chunk                                               text\n",
       "Aatrox1       0  Whether mistaken for a demon or god, many tale...\n",
       "Aatrox2       1  When Setaka, the Ascended warrior-queen, calle...\n",
       "Aatrox3       2  Mortals fleeing the conflict came to know them...\n",
       "Aatrox4       3  For centuries, he strained against this hellis...\n",
       "Aatrox5       4  The flesh he stole and crudely shaped began to...\n",
       "...         ...                                                ...\n",
       "Smolder1    894  Long before the lands that would become Camavo...\n",
       "Smolder2    895  In exchange, the dragons were kept satiated wi...\n",
       "Smolder3    896  The handful that survived bore witness to endl...\n",
       "Smolder4    897   Scared, alone, and hungry, the hatchling empl...\n",
       "Smolder5    898   Suddenly, louder than a hunting horn, louder ...\n",
       "\n",
       "[899 rows x 2 columns]"
      ]
     },
     "execution_count": 41,
     "metadata": {},
     "output_type": "execute_result"
    }
   ],
   "source": [
    "metadata = pd.DataFrame.from_dict(metadata_dict, orient='index')\n",
    "metadata"
   ]
  },
  {
   "cell_type": "code",
   "execution_count": 53,
   "metadata": {},
   "outputs": [],
   "source": [
    "processed_df = pd.DataFrame({'id': new_df['champion_with_number'], 'values': final_df, 'metadata': new_df['story_chunk']})"
   ]
  },
  {
   "cell_type": "code",
   "execution_count": 54,
   "metadata": {},
   "outputs": [
    {
     "data": {
      "text/html": [
       "<div>\n",
       "<style scoped>\n",
       "    .dataframe tbody tr th:only-of-type {\n",
       "        vertical-align: middle;\n",
       "    }\n",
       "\n",
       "    .dataframe tbody tr th {\n",
       "        vertical-align: top;\n",
       "    }\n",
       "\n",
       "    .dataframe thead th {\n",
       "        text-align: right;\n",
       "    }\n",
       "</style>\n",
       "<table border=\"1\" class=\"dataframe\">\n",
       "  <thead>\n",
       "    <tr style=\"text-align: right;\">\n",
       "      <th></th>\n",
       "      <th>id</th>\n",
       "      <th>values</th>\n",
       "      <th>metadata</th>\n",
       "    </tr>\n",
       "  </thead>\n",
       "  <tbody>\n",
       "    <tr>\n",
       "      <th>0</th>\n",
       "      <td>Aatrox1</td>\n",
       "      <td>[0.013453477062284946, -0.005212394054979086, ...</td>\n",
       "      <td>Whether mistaken for a demon or god, many tale...</td>\n",
       "    </tr>\n",
       "    <tr>\n",
       "      <th>1</th>\n",
       "      <td>Aatrox2</td>\n",
       "      <td>[0.013177535496652126, -0.02012667991220951, -...</td>\n",
       "      <td>When Setaka, the Ascended warrior-queen, calle...</td>\n",
       "    </tr>\n",
       "    <tr>\n",
       "      <th>2</th>\n",
       "      <td>Aatrox3</td>\n",
       "      <td>[0.007241181097924709, -0.014700141735374928, ...</td>\n",
       "      <td>Mortals fleeing the conflict came to know them...</td>\n",
       "    </tr>\n",
       "    <tr>\n",
       "      <th>3</th>\n",
       "      <td>Aatrox4</td>\n",
       "      <td>[0.0029356228187680244, -0.008332949131727219,...</td>\n",
       "      <td>For centuries, he strained against this hellis...</td>\n",
       "    </tr>\n",
       "    <tr>\n",
       "      <th>4</th>\n",
       "      <td>Aatrox5</td>\n",
       "      <td>[0.005279228091239929, -0.013822841458022594, ...</td>\n",
       "      <td>The flesh he stole and crudely shaped began to...</td>\n",
       "    </tr>\n",
       "    <tr>\n",
       "      <th>...</th>\n",
       "      <td>...</td>\n",
       "      <td>...</td>\n",
       "      <td>...</td>\n",
       "    </tr>\n",
       "    <tr>\n",
       "      <th>894</th>\n",
       "      <td>Smolder1</td>\n",
       "      <td>[0.018552804365754128, -0.033252231776714325, ...</td>\n",
       "      <td>Long before the lands that would become Camavo...</td>\n",
       "    </tr>\n",
       "    <tr>\n",
       "      <th>895</th>\n",
       "      <td>Smolder2</td>\n",
       "      <td>[0.003526126267388463, -0.03364427387714386, -...</td>\n",
       "      <td>In exchange, the dragons were kept satiated wi...</td>\n",
       "    </tr>\n",
       "    <tr>\n",
       "      <th>896</th>\n",
       "      <td>Smolder3</td>\n",
       "      <td>[0.017532963305711746, -0.029706742614507675, ...</td>\n",
       "      <td>The handful that survived bore witness to endl...</td>\n",
       "    </tr>\n",
       "    <tr>\n",
       "      <th>897</th>\n",
       "      <td>Smolder4</td>\n",
       "      <td>[0.0013252843637019396, -0.033858876675367355,...</td>\n",
       "      <td>Scared, alone, and hungry, the hatchling empl...</td>\n",
       "    </tr>\n",
       "    <tr>\n",
       "      <th>898</th>\n",
       "      <td>Smolder5</td>\n",
       "      <td>[0.005606119520962238, -0.030375465750694275, ...</td>\n",
       "      <td>Suddenly, louder than a hunting horn, louder ...</td>\n",
       "    </tr>\n",
       "  </tbody>\n",
       "</table>\n",
       "<p>899 rows × 3 columns</p>\n",
       "</div>"
      ],
      "text/plain": [
       "           id                                             values  \\\n",
       "0     Aatrox1  [0.013453477062284946, -0.005212394054979086, ...   \n",
       "1     Aatrox2  [0.013177535496652126, -0.02012667991220951, -...   \n",
       "2     Aatrox3  [0.007241181097924709, -0.014700141735374928, ...   \n",
       "3     Aatrox4  [0.0029356228187680244, -0.008332949131727219,...   \n",
       "4     Aatrox5  [0.005279228091239929, -0.013822841458022594, ...   \n",
       "..        ...                                                ...   \n",
       "894  Smolder1  [0.018552804365754128, -0.033252231776714325, ...   \n",
       "895  Smolder2  [0.003526126267388463, -0.03364427387714386, -...   \n",
       "896  Smolder3  [0.017532963305711746, -0.029706742614507675, ...   \n",
       "897  Smolder4  [0.0013252843637019396, -0.033858876675367355,...   \n",
       "898  Smolder5  [0.005606119520962238, -0.030375465750694275, ...   \n",
       "\n",
       "                                              metadata  \n",
       "0    Whether mistaken for a demon or god, many tale...  \n",
       "1    When Setaka, the Ascended warrior-queen, calle...  \n",
       "2    Mortals fleeing the conflict came to know them...  \n",
       "3    For centuries, he strained against this hellis...  \n",
       "4    The flesh he stole and crudely shaped began to...  \n",
       "..                                                 ...  \n",
       "894  Long before the lands that would become Camavo...  \n",
       "895  In exchange, the dragons were kept satiated wi...  \n",
       "896  The handful that survived bore witness to endl...  \n",
       "897   Scared, alone, and hungry, the hatchling empl...  \n",
       "898   Suddenly, louder than a hunting horn, louder ...  \n",
       "\n",
       "[899 rows x 3 columns]"
      ]
     },
     "execution_count": 54,
     "metadata": {},
     "output_type": "execute_result"
    }
   ],
   "source": [
    "processed_df"
   ]
  },
  {
   "cell_type": "code",
   "execution_count": 55,
   "metadata": {},
   "outputs": [],
   "source": [
    "\n",
    "\n",
    "for _, row in processed_df.iterrows():\n",
    "    index = row.name\n",
    "    story_chunk = row['metadata']\n",
    "\n",
    "    metadata_dict = {}\n",
    "\n",
    "    metadata_dict['chunk'] = index\n",
    "    metadata_dict['text'] = story_chunk\n",
    "    row['metadata'] = metadata_dict\n"
   ]
  },
  {
   "cell_type": "code",
   "execution_count": 56,
   "metadata": {},
   "outputs": [
    {
     "data": {
      "text/html": [
       "<div>\n",
       "<style scoped>\n",
       "    .dataframe tbody tr th:only-of-type {\n",
       "        vertical-align: middle;\n",
       "    }\n",
       "\n",
       "    .dataframe tbody tr th {\n",
       "        vertical-align: top;\n",
       "    }\n",
       "\n",
       "    .dataframe thead th {\n",
       "        text-align: right;\n",
       "    }\n",
       "</style>\n",
       "<table border=\"1\" class=\"dataframe\">\n",
       "  <thead>\n",
       "    <tr style=\"text-align: right;\">\n",
       "      <th></th>\n",
       "      <th>id</th>\n",
       "      <th>values</th>\n",
       "      <th>metadata</th>\n",
       "    </tr>\n",
       "  </thead>\n",
       "  <tbody>\n",
       "    <tr>\n",
       "      <th>0</th>\n",
       "      <td>Aatrox1</td>\n",
       "      <td>[0.013453477062284946, -0.005212394054979086, ...</td>\n",
       "      <td>{'chunk': 0, 'text': 'Whether mistaken for a d...</td>\n",
       "    </tr>\n",
       "    <tr>\n",
       "      <th>1</th>\n",
       "      <td>Aatrox2</td>\n",
       "      <td>[0.013177535496652126, -0.02012667991220951, -...</td>\n",
       "      <td>{'chunk': 1, 'text': 'When Setaka, the Ascende...</td>\n",
       "    </tr>\n",
       "    <tr>\n",
       "      <th>2</th>\n",
       "      <td>Aatrox3</td>\n",
       "      <td>[0.007241181097924709, -0.014700141735374928, ...</td>\n",
       "      <td>{'chunk': 2, 'text': 'Mortals fleeing the conf...</td>\n",
       "    </tr>\n",
       "    <tr>\n",
       "      <th>3</th>\n",
       "      <td>Aatrox4</td>\n",
       "      <td>[0.0029356228187680244, -0.008332949131727219,...</td>\n",
       "      <td>{'chunk': 3, 'text': 'For centuries, he strain...</td>\n",
       "    </tr>\n",
       "    <tr>\n",
       "      <th>4</th>\n",
       "      <td>Aatrox5</td>\n",
       "      <td>[0.005279228091239929, -0.013822841458022594, ...</td>\n",
       "      <td>{'chunk': 4, 'text': 'The flesh he stole and c...</td>\n",
       "    </tr>\n",
       "    <tr>\n",
       "      <th>...</th>\n",
       "      <td>...</td>\n",
       "      <td>...</td>\n",
       "      <td>...</td>\n",
       "    </tr>\n",
       "    <tr>\n",
       "      <th>894</th>\n",
       "      <td>Smolder1</td>\n",
       "      <td>[0.018552804365754128, -0.033252231776714325, ...</td>\n",
       "      <td>{'chunk': 894, 'text': 'Long before the lands ...</td>\n",
       "    </tr>\n",
       "    <tr>\n",
       "      <th>895</th>\n",
       "      <td>Smolder2</td>\n",
       "      <td>[0.003526126267388463, -0.03364427387714386, -...</td>\n",
       "      <td>{'chunk': 895, 'text': 'In exchange, the drago...</td>\n",
       "    </tr>\n",
       "    <tr>\n",
       "      <th>896</th>\n",
       "      <td>Smolder3</td>\n",
       "      <td>[0.017532963305711746, -0.029706742614507675, ...</td>\n",
       "      <td>{'chunk': 896, 'text': 'The handful that survi...</td>\n",
       "    </tr>\n",
       "    <tr>\n",
       "      <th>897</th>\n",
       "      <td>Smolder4</td>\n",
       "      <td>[0.0013252843637019396, -0.033858876675367355,...</td>\n",
       "      <td>{'chunk': 897, 'text': ' Scared, alone, and hu...</td>\n",
       "    </tr>\n",
       "    <tr>\n",
       "      <th>898</th>\n",
       "      <td>Smolder5</td>\n",
       "      <td>[0.005606119520962238, -0.030375465750694275, ...</td>\n",
       "      <td>{'chunk': 898, 'text': ' Suddenly, louder than...</td>\n",
       "    </tr>\n",
       "  </tbody>\n",
       "</table>\n",
       "<p>899 rows × 3 columns</p>\n",
       "</div>"
      ],
      "text/plain": [
       "           id                                             values  \\\n",
       "0     Aatrox1  [0.013453477062284946, -0.005212394054979086, ...   \n",
       "1     Aatrox2  [0.013177535496652126, -0.02012667991220951, -...   \n",
       "2     Aatrox3  [0.007241181097924709, -0.014700141735374928, ...   \n",
       "3     Aatrox4  [0.0029356228187680244, -0.008332949131727219,...   \n",
       "4     Aatrox5  [0.005279228091239929, -0.013822841458022594, ...   \n",
       "..        ...                                                ...   \n",
       "894  Smolder1  [0.018552804365754128, -0.033252231776714325, ...   \n",
       "895  Smolder2  [0.003526126267388463, -0.03364427387714386, -...   \n",
       "896  Smolder3  [0.017532963305711746, -0.029706742614507675, ...   \n",
       "897  Smolder4  [0.0013252843637019396, -0.033858876675367355,...   \n",
       "898  Smolder5  [0.005606119520962238, -0.030375465750694275, ...   \n",
       "\n",
       "                                              metadata  \n",
       "0    {'chunk': 0, 'text': 'Whether mistaken for a d...  \n",
       "1    {'chunk': 1, 'text': 'When Setaka, the Ascende...  \n",
       "2    {'chunk': 2, 'text': 'Mortals fleeing the conf...  \n",
       "3    {'chunk': 3, 'text': 'For centuries, he strain...  \n",
       "4    {'chunk': 4, 'text': 'The flesh he stole and c...  \n",
       "..                                                 ...  \n",
       "894  {'chunk': 894, 'text': 'Long before the lands ...  \n",
       "895  {'chunk': 895, 'text': 'In exchange, the drago...  \n",
       "896  {'chunk': 896, 'text': 'The handful that survi...  \n",
       "897  {'chunk': 897, 'text': ' Scared, alone, and hu...  \n",
       "898  {'chunk': 898, 'text': ' Suddenly, louder than...  \n",
       "\n",
       "[899 rows x 3 columns]"
      ]
     },
     "execution_count": 56,
     "metadata": {},
     "output_type": "execute_result"
    }
   ],
   "source": [
    "processed_df"
   ]
  },
  {
   "cell_type": "code",
   "execution_count": null,
   "metadata": {},
   "outputs": [],
   "source": [
    "!pip install pinecone-client pinecone-datasets"
   ]
  },
  {
   "cell_type": "code",
   "execution_count": 57,
   "metadata": {},
   "outputs": [],
   "source": [
    "import os\n",
    "\n",
    "use_serverless = os.environ.get(\"USE_SERVERLESS\", \"False\").lower() == \"true\""
   ]
  },
  {
   "cell_type": "code",
   "execution_count": 58,
   "metadata": {},
   "outputs": [
    {
     "name": "stderr",
     "output_type": "stream",
     "text": [
      "/home/codespace/.python/current/lib/python3.10/site-packages/pinecone/data/index.py:1: TqdmWarning: IProgress not found. Please update jupyter and ipywidgets. See https://ipywidgets.readthedocs.io/en/stable/user_install.html\n",
      "  from tqdm.autonotebook import tqdm\n"
     ]
    }
   ],
   "source": [
    "from pinecone import Pinecone\n",
    "\n",
    "# initialize connection to pinecone (get API key at app.pc.io)\n",
    "api_key = os.environ.get('PINECONE_API_KEY') or 'PINECONE_API_KEY'\n",
    "environment = os.environ.get('PINECONE_ENVIRONMENT') or 'PINECONE_ENVIRONMENT'\n",
    "\n",
    "# configure client\n",
    "pc = Pinecone(api_key=api_key)"
   ]
  },
  {
   "cell_type": "code",
   "execution_count": 59,
   "metadata": {},
   "outputs": [
    {
     "data": {
      "text/plain": [
       "{'dimension': 1536,\n",
       " 'index_fullness': 0.0,\n",
       " 'namespaces': {},\n",
       " 'total_vector_count': 0}"
      ]
     },
     "execution_count": 59,
     "metadata": {},
     "output_type": "execute_result"
    }
   ],
   "source": [
    "index_name = 'rag'\n",
    "index = pc.Index(index_name)\n",
    "index.describe_index_stats()"
   ]
  },
  {
   "cell_type": "code",
   "execution_count": 60,
   "metadata": {},
   "outputs": [
    {
     "name": "stderr",
     "output_type": "stream",
     "text": [
      "sending upsert requests: 100%|██████████| 899/899 [00:08<00:00, 103.28it/s]\n"
     ]
    },
    {
     "data": {
      "text/plain": [
       "{'upserted_count': 899}"
      ]
     },
     "execution_count": 60,
     "metadata": {},
     "output_type": "execute_result"
    }
   ],
   "source": [
    "index.upsert_from_dataframe(processed_df, batch_size=100)"
   ]
  },
  {
   "cell_type": "code",
   "execution_count": 70,
   "metadata": {},
   "outputs": [
    {
     "data": {
      "text/plain": [
       "{'dimension': 1536,\n",
       " 'index_fullness': 0.00899,\n",
       " 'namespaces': {'': {'vector_count': 899}},\n",
       " 'total_vector_count': 899}"
      ]
     },
     "execution_count": 70,
     "metadata": {},
     "output_type": "execute_result"
    }
   ],
   "source": [
    "index.describe_index_stats()"
   ]
  },
  {
   "cell_type": "code",
   "execution_count": 71,
   "metadata": {},
   "outputs": [],
   "source": [
    "ids = pd.read_csv('../data/champion_names.csv')\n",
    "ids = ids['champion_with_number'].values.tolist()"
   ]
  },
  {
   "cell_type": "code",
   "execution_count": 72,
   "metadata": {},
   "outputs": [],
   "source": [
    "records = index.fetch(ids)"
   ]
  },
  {
   "cell_type": "code",
   "execution_count": 79,
   "metadata": {},
   "outputs": [
    {
     "data": {
      "text/plain": [
       "'Whether mistaken for a demon or god, many tales have been told of the Darkin Blade... but few know his real name, or the story of his fall.In ancient times, long before desert sands swallowed the empire, a mighty champion of Shurima was brought before the Sun Disc to become the avatar for a now forgotten celestial ideal. Remade as one of the Ascended, his wings were the golden light of dawn, and his armor sparkled like a constellation of hope from beyond the great veil.Aatrox was his name. He was at the vanguard of every noble conflict. So true and just was his conduct that other god-warriors would always gather at his side, and ten thousand mortals of Shurima marched behind him. When Setaka, the Ascended warrior-queen, called for his help against the rebellion of Icathia, Aatrox answered without hesitation.'"
      ]
     },
     "execution_count": 79,
     "metadata": {},
     "output_type": "execute_result"
    }
   ],
   "source": [
    "records.vectors[ids[0]]['metadata']['text']"
   ]
  },
  {
   "cell_type": "code",
   "execution_count": 80,
   "metadata": {},
   "outputs": [],
   "source": [
    "def topk_retrieval(query, k=5, ids=ids):\n",
    "    topk_similarity = []\n",
    "    topk_metadata = []\n",
    "    query_vector = get_embedding(query)\n",
    "    for name in ids:\n",
    "        records = index.fetch([name])\n",
    "        similarity = cosine_similarity(query_vector, records.vectors[name]['values'])\n",
    "        topk_similarity.append(similarity)\n",
    "        topk_metadata.append(records.vectors[name]['metadata']['text'])\n",
    "    \n",
    "    topk_similarity, topk_metadata = zip(*sorted(zip(topk_similarity, topk_metadata), reverse=True))\n",
    "    topk_similarity = list(topk_similarity[:k])\n",
    "    topk_metadata = list(topk_metadata[:k])\n",
    "    \n",
    "    return topk_similarity, topk_metadata\n"
   ]
  },
  {
   "cell_type": "code",
   "execution_count": 81,
   "metadata": {},
   "outputs": [],
   "source": [
    "query = ids[0]\n",
    "res_topk_similarity, res_topk_metadata = topk_retrieval(query, k=5, ids=ids)"
   ]
  },
  {
   "cell_type": "code",
   "execution_count": 84,
   "metadata": {},
   "outputs": [
    {
     "data": {
      "text/plain": [
       "['For centuries, he strained against this hellish confinement... until some nameless mortal was foolish enough to try and wield the blade once more. Aatrox seized upon this opportunity, forcing his will and an imitation of his original form onto his bearer, though the process quickly drained all life from the new body.In the years that followed, Aatrox groomed many more hosts—men and women of exceptional vitality or fortitude. Though his grasp of such magics had been limited in life, he learned to take control of a mortal in the span of single breath, and in battle he discovered he could feast on his victims to build himself ever larger and stronger.Aatrox traveled the land, searching desperately, endlessly, for a way return to his previous Ascended form… but the riddle of the blade proved unsolvable, and in time he realized he would never be free of it. The flesh he stole and crudely shaped began to feel like a mockery of his former glory—a cage only slightly larger than the sword.',\n",
       " 'The flesh he stole and crudely shaped began to feel like a mockery of his former glory—a cage only slightly larger than the sword. Despair and loathing grew in his heart. The heavenly powers that Aatrox had once embodied had been wiped from the world, and all memory.Raging against this injustice, he arrived at a solution that could only be born of a prisoner’s desperation. If he could not destroy the blade or free himself, then he would embrace oblivion instead.Now, Aatrox marches toward this merciless goal, bringing war and death wherever he goes. He clings to a blind hope: if he can drive all of creation into a final, apocalyptic battle—where everything, everything else is destroyed—then maybe he and the blade will also cease to exist.',\n",
       " 'When Setaka, the Ascended warrior-queen, called for his help against the rebellion of Icathia, Aatrox answered without hesitation.But no one predicted the extent of the horrors that the rebels would unleash—the Void quickly overwhelmed its Icathian masters, and began the grinding annihilation of all life it encountered.After many years of desperate battle, Aatrox and his brethren finally halted the Void’s perverse advance, and seared the largest rifts shut. But the surviving Ascended, the self-described Sunborn, had been forever changed by what they had encountered. Though Shurima had triumphed, they all had lost something in their victory... even noble Aatrox.And in time, Shurima fell, as all empires must.Without any monarch to defend, or the existential threat of the Void to test them, Aatrox and the Sunborn began to clash with one another, and eventually this became a war for the ruins of their world.',\n",
       " 'Whether mistaken for a demon or god, many tales have been told of the Darkin Blade... but few know his real name, or the story of his fall.In ancient times, long before desert sands swallowed the empire, a mighty champion of Shurima was brought before the Sun Disc to become the avatar for a now forgotten celestial ideal. Remade as one of the Ascended, his wings were the golden light of dawn, and his armor sparkled like a constellation of hope from beyond the great veil.Aatrox was his name. He was at the vanguard of every noble conflict. So true and just was his conduct that other god-warriors would always gather at his side, and ten thousand mortals of Shurima marched behind him. When Setaka, the Ascended warrior-queen, called for his help against the rebellion of Icathia, Aatrox answered without hesitation.',\n",
       " 'Atreus felt a cold rage at both the Darkin and the Aspects. They were no different. They were the problem.Atreus put himself between the barbarians and Aatrox. Recognizing the battered shield and spear of the fallen Aspect, the Darkin mocked him—what hope had Atreus now, without the Pantheon’s power? But even though Aatrox’s blows cast him to his knees, Atreus’ own will reignited the Aspect’s spear, upon hearing the cries of the people around him… and with a mighty leap, he struck a blow that severed the Darkin’s sword arm.Both blade and Darkin fell to the ground. Only Atreus still stood, and watched his namesake star blaze back to life in the heavens.Though he often yearns to return to Iula’s farm, Atreus vowed that day to stand against Aspects, Ascended, demons, and any who wield power so great, it can only destroy. Forsaking his own name, he has become a new Pantheon—the Aspect’s weapons fueled by the will to fight that can only exist in the face of death.']"
      ]
     },
     "execution_count": 84,
     "metadata": {},
     "output_type": "execute_result"
    }
   ],
   "source": [
    "res_topk_similarity\n",
    "res_topk_metadata"
   ]
  },
  {
   "cell_type": "code",
   "execution_count": null,
   "metadata": {},
   "outputs": [],
   "source": [
    "from py_pdf_parser.loaders import load_file\n",
    "\n",
    "document = load_file(\"../data/LoL_Lore_Collection.pdf\")"
   ]
  }
 ],
 "metadata": {
  "kernelspec": {
   "display_name": "Python 3",
   "language": "python",
   "name": "python3"
  },
  "language_info": {
   "codemirror_mode": {
    "name": "ipython",
    "version": 3
   },
   "file_extension": ".py",
   "mimetype": "text/x-python",
   "name": "python",
   "nbconvert_exporter": "python",
   "pygments_lexer": "ipython3",
   "version": "3.10.13"
  }
 },
 "nbformat": 4,
 "nbformat_minor": 2
}
